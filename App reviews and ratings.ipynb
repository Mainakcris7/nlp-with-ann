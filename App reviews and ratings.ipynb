{
 "cells": [
  {
   "cell_type": "markdown",
   "metadata": {},
   "source": [
    "# Import Libraries"
   ]
  },
  {
   "cell_type": "code",
   "execution_count": 977,
   "metadata": {},
   "outputs": [],
   "source": [
    "import pandas as pd\n",
    "import numpy as np\n",
    "import nltk\n",
    "import matplotlib.pyplot as plt\n",
    "import seaborn as sns\n",
    "import re"
   ]
  },
  {
   "cell_type": "markdown",
   "metadata": {},
   "source": [
    "# Import Dataset"
   ]
  },
  {
   "cell_type": "code",
   "execution_count": 978,
   "metadata": {},
   "outputs": [
    {
     "data": {
      "text/html": [
       "<div>\n",
       "<style scoped>\n",
       "    .dataframe tbody tr th:only-of-type {\n",
       "        vertical-align: middle;\n",
       "    }\n",
       "\n",
       "    .dataframe tbody tr th {\n",
       "        vertical-align: top;\n",
       "    }\n",
       "\n",
       "    .dataframe thead th {\n",
       "        text-align: right;\n",
       "    }\n",
       "</style>\n",
       "<table border=\"1\" class=\"dataframe\">\n",
       "  <thead>\n",
       "    <tr style=\"text-align: right;\">\n",
       "      <th></th>\n",
       "      <th>source</th>\n",
       "      <th>review_description</th>\n",
       "      <th>rating</th>\n",
       "      <th>review_date</th>\n",
       "    </tr>\n",
       "  </thead>\n",
       "  <tbody>\n",
       "    <tr>\n",
       "      <th>0</th>\n",
       "      <td>Google Play</td>\n",
       "      <td>Meh. Not the greatest experience on a Chromebo...</td>\n",
       "      <td>2</td>\n",
       "      <td>2023-07-08 14:18:24</td>\n",
       "    </tr>\n",
       "    <tr>\n",
       "      <th>1</th>\n",
       "      <td>Google Play</td>\n",
       "      <td>Pretty good for a first launch!! Its easy to u...</td>\n",
       "      <td>3</td>\n",
       "      <td>2023-07-19 20:52:48</td>\n",
       "    </tr>\n",
       "    <tr>\n",
       "      <th>2</th>\n",
       "      <td>Google Play</td>\n",
       "      <td>For a brand new app, it's very well optimized....</td>\n",
       "      <td>3</td>\n",
       "      <td>2023-07-06 23:03:11</td>\n",
       "    </tr>\n",
       "    <tr>\n",
       "      <th>3</th>\n",
       "      <td>Google Play</td>\n",
       "      <td>Great app with a lot of potential! However, th...</td>\n",
       "      <td>3</td>\n",
       "      <td>2023-07-10 00:53:25</td>\n",
       "    </tr>\n",
       "    <tr>\n",
       "      <th>4</th>\n",
       "      <td>Google Play</td>\n",
       "      <td>The app is good, but it needs a lot of functio...</td>\n",
       "      <td>3</td>\n",
       "      <td>2023-07-06 16:57:43</td>\n",
       "    </tr>\n",
       "  </tbody>\n",
       "</table>\n",
       "</div>"
      ],
      "text/plain": [
       "        source                                 review_description  rating  \\\n",
       "0  Google Play  Meh. Not the greatest experience on a Chromebo...       2   \n",
       "1  Google Play  Pretty good for a first launch!! Its easy to u...       3   \n",
       "2  Google Play  For a brand new app, it's very well optimized....       3   \n",
       "3  Google Play  Great app with a lot of potential! However, th...       3   \n",
       "4  Google Play  The app is good, but it needs a lot of functio...       3   \n",
       "\n",
       "           review_date  \n",
       "0  2023-07-08 14:18:24  \n",
       "1  2023-07-19 20:52:48  \n",
       "2  2023-07-06 23:03:11  \n",
       "3  2023-07-10 00:53:25  \n",
       "4  2023-07-06 16:57:43  "
      ]
     },
     "execution_count": 978,
     "metadata": {},
     "output_type": "execute_result"
    }
   ],
   "source": [
    "data = pd.read_csv(\"threads_reviews.csv\")\n",
    "data.head()"
   ]
  },
  {
   "cell_type": "markdown",
   "metadata": {},
   "source": [
    "# Feature Engineering"
   ]
  },
  {
   "cell_type": "code",
   "execution_count": 979,
   "metadata": {},
   "outputs": [
    {
     "data": {
      "text/html": [
       "<div>\n",
       "<style scoped>\n",
       "    .dataframe tbody tr th:only-of-type {\n",
       "        vertical-align: middle;\n",
       "    }\n",
       "\n",
       "    .dataframe tbody tr th {\n",
       "        vertical-align: top;\n",
       "    }\n",
       "\n",
       "    .dataframe thead th {\n",
       "        text-align: right;\n",
       "    }\n",
       "</style>\n",
       "<table border=\"1\" class=\"dataframe\">\n",
       "  <thead>\n",
       "    <tr style=\"text-align: right;\">\n",
       "      <th></th>\n",
       "      <th>source</th>\n",
       "      <th>review_description</th>\n",
       "      <th>rating</th>\n",
       "    </tr>\n",
       "  </thead>\n",
       "  <tbody>\n",
       "    <tr>\n",
       "      <th>0</th>\n",
       "      <td>Google Play</td>\n",
       "      <td>Meh. Not the greatest experience on a Chromebo...</td>\n",
       "      <td>2</td>\n",
       "    </tr>\n",
       "    <tr>\n",
       "      <th>1</th>\n",
       "      <td>Google Play</td>\n",
       "      <td>Pretty good for a first launch!! Its easy to u...</td>\n",
       "      <td>3</td>\n",
       "    </tr>\n",
       "    <tr>\n",
       "      <th>2</th>\n",
       "      <td>Google Play</td>\n",
       "      <td>For a brand new app, it's very well optimized....</td>\n",
       "      <td>3</td>\n",
       "    </tr>\n",
       "    <tr>\n",
       "      <th>3</th>\n",
       "      <td>Google Play</td>\n",
       "      <td>Great app with a lot of potential! However, th...</td>\n",
       "      <td>3</td>\n",
       "    </tr>\n",
       "    <tr>\n",
       "      <th>4</th>\n",
       "      <td>Google Play</td>\n",
       "      <td>The app is good, but it needs a lot of functio...</td>\n",
       "      <td>3</td>\n",
       "    </tr>\n",
       "  </tbody>\n",
       "</table>\n",
       "</div>"
      ],
      "text/plain": [
       "        source                                 review_description  rating\n",
       "0  Google Play  Meh. Not the greatest experience on a Chromebo...       2\n",
       "1  Google Play  Pretty good for a first launch!! Its easy to u...       3\n",
       "2  Google Play  For a brand new app, it's very well optimized....       3\n",
       "3  Google Play  Great app with a lot of potential! However, th...       3\n",
       "4  Google Play  The app is good, but it needs a lot of functio...       3"
      ]
     },
     "execution_count": 979,
     "metadata": {},
     "output_type": "execute_result"
    }
   ],
   "source": [
    "data = data.iloc[:, :-1]\n",
    "data.head()"
   ]
  },
  {
   "cell_type": "code",
   "execution_count": 980,
   "metadata": {},
   "outputs": [
    {
     "name": "stdout",
     "output_type": "stream",
     "text": [
      "<class 'pandas.core.frame.DataFrame'>\n",
      "RangeIndex: 32910 entries, 0 to 32909\n",
      "Data columns (total 3 columns):\n",
      " #   Column              Non-Null Count  Dtype \n",
      "---  ------              --------------  ----- \n",
      " 0   source              32910 non-null  object\n",
      " 1   review_description  32910 non-null  object\n",
      " 2   rating              32910 non-null  int64 \n",
      "dtypes: int64(1), object(2)\n",
      "memory usage: 771.5+ KB\n"
     ]
    }
   ],
   "source": [
    "data.info()"
   ]
  },
  {
   "cell_type": "code",
   "execution_count": 981,
   "metadata": {},
   "outputs": [
    {
     "name": "stdout",
     "output_type": "stream",
     "text": [
      "<class 'pandas.core.frame.DataFrame'>\n",
      "RangeIndex: 32910 entries, 0 to 32909\n",
      "Data columns (total 3 columns):\n",
      " #   Column              Non-Null Count  Dtype   \n",
      "---  ------              --------------  -----   \n",
      " 0   source              32910 non-null  category\n",
      " 1   review_description  32910 non-null  object  \n",
      " 2   rating              32910 non-null  int8    \n",
      "dtypes: category(1), int8(1), object(1)\n",
      "memory usage: 321.6+ KB\n"
     ]
    }
   ],
   "source": [
    "data['source'] = data['source'].astype(\"category\")\n",
    "data[\"rating\"] = data[\"rating\"].astype('int8')\n",
    "data.info()"
   ]
  },
  {
   "cell_type": "code",
   "execution_count": 982,
   "metadata": {},
   "outputs": [],
   "source": [
    "data = data.drop_duplicates(keep = 'first')"
   ]
  },
  {
   "cell_type": "markdown",
   "metadata": {},
   "source": [
    "# EDA"
   ]
  },
  {
   "cell_type": "code",
   "execution_count": 984,
   "metadata": {},
   "outputs": [
    {
     "data": {
      "text/html": [
       "<div>\n",
       "<style scoped>\n",
       "    .dataframe tbody tr th:only-of-type {\n",
       "        vertical-align: middle;\n",
       "    }\n",
       "\n",
       "    .dataframe tbody tr th {\n",
       "        vertical-align: top;\n",
       "    }\n",
       "\n",
       "    .dataframe thead th {\n",
       "        text-align: right;\n",
       "    }\n",
       "</style>\n",
       "<table border=\"1\" class=\"dataframe\">\n",
       "  <thead>\n",
       "    <tr style=\"text-align: right;\">\n",
       "      <th>rating</th>\n",
       "      <th>1</th>\n",
       "      <th>2</th>\n",
       "      <th>3</th>\n",
       "      <th>4</th>\n",
       "      <th>5</th>\n",
       "    </tr>\n",
       "    <tr>\n",
       "      <th>source</th>\n",
       "      <th></th>\n",
       "      <th></th>\n",
       "      <th></th>\n",
       "      <th></th>\n",
       "      <th></th>\n",
       "    </tr>\n",
       "  </thead>\n",
       "  <tbody>\n",
       "    <tr>\n",
       "      <th>App Store</th>\n",
       "      <td>0.390726</td>\n",
       "      <td>0.085519</td>\n",
       "      <td>0.130369</td>\n",
       "      <td>0.114025</td>\n",
       "      <td>0.279361</td>\n",
       "    </tr>\n",
       "    <tr>\n",
       "      <th>Google Play</th>\n",
       "      <td>0.318657</td>\n",
       "      <td>0.062650</td>\n",
       "      <td>0.087328</td>\n",
       "      <td>0.106232</td>\n",
       "      <td>0.425133</td>\n",
       "    </tr>\n",
       "  </tbody>\n",
       "</table>\n",
       "</div>"
      ],
      "text/plain": [
       "rating              1         2         3         4         5\n",
       "source                                                       \n",
       "App Store    0.390726  0.085519  0.130369  0.114025  0.279361\n",
       "Google Play  0.318657  0.062650  0.087328  0.106232  0.425133"
      ]
     },
     "execution_count": 984,
     "metadata": {},
     "output_type": "execute_result"
    }
   ],
   "source": [
    "data_summary = pd.crosstab(index = data[\"source\"], columns = data[\"rating\"], normalize = 'index')\n",
    "data_summary"
   ]
  },
  {
   "cell_type": "markdown",
   "metadata": {},
   "source": [
    "## Google Play"
   ]
  },
  {
   "cell_type": "code",
   "execution_count": 985,
   "metadata": {},
   "outputs": [
    {
     "data": {
      "image/png": "[encoded data removed]",
      "text/plain": [
       "<Figure size 640x480 with 1 Axes>"
      ]
     },
     "metadata": {},
     "output_type": "display_data"
    }
   ],
   "source": [
    "plt.style.use(\"fivethirtyeight\")\n",
    "sns.barplot(x = data_summary.columns, y = data_summary.iloc[1, :])\n",
    "plt.title(\"Google Play ratings\")\n",
    "plt.xlabel(\"Ratings\")\n",
    "plt.ylabel(\"Relative Frequency\")\n",
    "plt.show()"
   ]
  },
  {
   "cell_type": "markdown",
   "metadata": {},
   "source": [
    "### Google Play descriptive analysis"
   ]
  },
  {
   "cell_type": "code",
   "execution_count": 986,
   "metadata": {},
   "outputs": [
    {
     "name": "stdout",
     "output_type": "stream",
     "text": [
      "Average App rating :  3.257\n",
      "Most frequent App rating : 5\n"
     ]
    }
   ],
   "source": [
    "print(f\"Average App rating : {data[data['source'] == 'Google Play']['rating'].mean() : .3f}\")\n",
    "g_mode = data[data['source'] == 'Google Play']['rating'].mode()[0]\n",
    "print(f\"Most frequent App rating : {g_mode}\")"
   ]
  },
  {
   "cell_type": "markdown",
   "metadata": {},
   "source": [
    "## App Store"
   ]
  },
  {
   "cell_type": "code",
   "execution_count": 987,
   "metadata": {},
   "outputs": [
    {
     "data": {
      "image/png": "[encoded data removed]",
      "text/plain": [
       "<Figure size 640x480 with 1 Axes>"
      ]
     },
     "metadata": {},
     "output_type": "display_data"
    }
   ],
   "source": [
    "sns.barplot(x = data_summary.columns, y = data_summary.iloc[0, :])\n",
    "plt.title(\"App Store ratings\")\n",
    "plt.xlabel(\"Ratings\")\n",
    "plt.ylabel(\"Relative Frequency\")\n",
    "plt.show()"
   ]
  },
  {
   "cell_type": "markdown",
   "metadata": {},
   "source": [
    "### App store Descriptive Analysis"
   ]
  },
  {
   "cell_type": "code",
   "execution_count": 988,
   "metadata": {},
   "outputs": [
    {
     "name": "stdout",
     "output_type": "stream",
     "text": [
      "Average App rating :  2.806\n",
      "Most frequent App rating : 1\n"
     ]
    }
   ],
   "source": [
    "print(f\"Average App rating : {data[data['source'] == 'App Store']['rating'].mean() : .3f}\")\n",
    "a_mode = data[data['source'] == 'App Store']['rating'].mode()[0]\n",
    "print(f\"Most frequent App rating : {a_mode}\")"
   ]
  },
  {
   "cell_type": "markdown",
   "metadata": {},
   "source": [
    "# Natural Language Processing"
   ]
  },
  {
   "cell_type": "code",
   "execution_count": 989,
   "metadata": {},
   "outputs": [
    {
     "data": {
      "text/plain": [
       "0    Meh. Not the greatest experience on a Chromebo...\n",
       "1    Pretty good for a first launch!! Its easy to u...\n",
       "2    For a brand new app, it's very well optimized....\n",
       "3    Great app with a lot of potential! However, th...\n",
       "4    The app is good, but it needs a lot of functio...\n",
       "Name: review_description, dtype: object"
      ]
     },
     "execution_count": 989,
     "metadata": {},
     "output_type": "execute_result"
    }
   ],
   "source": [
    "reviews = data[\"review_description\"]\n",
    "reviews[:5]"
   ]
  },
  {
   "cell_type": "markdown",
   "metadata": {},
   "source": [
    "#### Extracting only alphabetical characters from the Reviews"
   ]
  },
  {
   "cell_type": "code",
   "execution_count": 991,
   "metadata": {},
   "outputs": [],
   "source": [
    "reviews = [re.sub(\"[^a-zA-Z]\",\" \",review).lower().split() for review in reviews]"
   ]
  },
  {
   "cell_type": "code",
   "execution_count": 993,
   "metadata": {},
   "outputs": [
    {
     "name": "stderr",
     "output_type": "stream",
     "text": [
      "[nltk_data] Downloading package stopwords to\n",
      "[nltk_data]     C:\\Users\\User\\AppData\\Roaming\\nltk_data...\n",
      "[nltk_data]   Package stopwords is already up-to-date!\n"
     ]
    }
   ],
   "source": [
    "nltk.download(\"stopwords\")\n",
    "from nltk.corpus import stopwords"
   ]
  },
  {
   "cell_type": "markdown",
   "metadata": {},
   "source": [
    "#### Removing some valuable words from stopwrods"
   ]
  },
  {
   "cell_type": "code",
   "execution_count": 994,
   "metadata": {},
   "outputs": [],
   "source": [
    "filtered_stopwords = stopwords.words(\"english\")\n",
    "filtered_stopwords.remove(\"no\")\n",
    "filtered_stopwords.remove(\"nor\")\n",
    "filtered_stopwords.remove(\"not\")\n",
    "filtered_stopwords.remove(\"very\")\n",
    "filtered_stopwords.remove(\"don't\")\n",
    "filtered_stopwords.remove(\"don\")\n",
    "filtered_stopwords.remove(\"ain\")\n",
    "filtered_stopwords.remove(\"aren\")\n",
    "filtered_stopwords.remove(\"aren't\")\n",
    "filtered_stopwords.remove(\"couldn\")\n",
    "filtered_stopwords.remove(\"couldn't\")\n",
    "filtered_stopwords.remove(\"didn\")\n",
    "filtered_stopwords.remove(\"didn't\")\n",
    "filtered_stopwords.remove(\"doesn\")\n",
    "filtered_stopwords.remove(\"doesn't\")\n",
    "filtered_stopwords.remove(\"hadn\")\n",
    "filtered_stopwords.remove(\"hadn't\")\n",
    "filtered_stopwords.remove(\"hasn\")\n",
    "filtered_stopwords.remove(\"hasn't\")\n",
    "filtered_stopwords.remove(\"haven\")\n",
    "filtered_stopwords.remove(\"haven't\")\n",
    "filtered_stopwords.remove(\"isn\")\n",
    "filtered_stopwords.remove(\"isn't\")\n",
    "filtered_stopwords.remove(\"mightn\")\n",
    "filtered_stopwords.remove(\"mightn't\")\n",
    "filtered_stopwords.remove(\"mustn't\")\n",
    "filtered_stopwords.remove(\"needn't\")\n",
    "filtered_stopwords.remove(\"shan't\")\n",
    "filtered_stopwords.remove(\"shouldn't\")\n",
    "filtered_stopwords.remove(\"wasn't\")\n",
    "filtered_stopwords.remove(\"wouldn't\")\n",
    "filtered_stopwords.remove(\"won't\")\n",
    "filtered_stopwords.remove(\"weren't\")"
   ]
  },
  {
   "cell_type": "markdown",
   "metadata": {},
   "source": [
    "#### Stemming Words"
   ]
  },
  {
   "cell_type": "code",
   "execution_count": 995,
   "metadata": {},
   "outputs": [],
   "source": [
    "from nltk.stem.porter import PorterStemmer\n",
    "stemmer = PorterStemmer()\n",
    "stemmed_reviews = []\n",
    "for review in reviews:\n",
    "    review = [stemmer.stem(word) for word in review if word not in filtered_stopwords]\n",
    "    stemmed_reviews.append(review)"
   ]
  },
  {
   "cell_type": "markdown",
   "metadata": {},
   "source": [
    "#### Making a list of Stemmed Reviews by joing the stemmed words"
   ]
  },
  {
   "cell_type": "code",
   "execution_count": 997,
   "metadata": {},
   "outputs": [
    {
     "data": {
      "text/plain": [
       "'pretti good first launch easi use self explanatori say algorithm good well great potenti thing need improv abil use hashtag would make easier find topic peopl interest option follow feed would major improv especi chronolog order abil choos imag album rather recent photo abil save photo phone'"
      ]
     },
     "execution_count": 997,
     "metadata": {},
     "output_type": "execute_result"
    }
   ],
   "source": [
    "reviews = [' '.join(review) for review in stemmed_reviews]\n",
    "reviews[1]"
   ]
  },
  {
   "cell_type": "markdown",
   "metadata": {},
   "source": [
    "## Tokenization of Reviews"
   ]
  },
  {
   "cell_type": "code",
   "execution_count": 998,
   "metadata": {},
   "outputs": [],
   "source": [
    "from sklearn.feature_extraction.text import CountVectorizer\n",
    "vectorizer = CountVectorizer(max_features = 12000)\n",
    "X = vectorizer.fit_transform(reviews)"
   ]
  },
  {
   "cell_type": "code",
   "execution_count": 1000,
   "metadata": {},
   "outputs": [
    {
     "data": {
      "text/plain": [
       "(27228,)"
      ]
     },
     "execution_count": 1000,
     "metadata": {},
     "output_type": "execute_result"
    }
   ],
   "source": [
    "Y = data['rating'].values\n",
    "Y.shape"
   ]
  },
  {
   "cell_type": "markdown",
   "metadata": {},
   "source": [
    "### Label Encoding the 'source' column"
   ]
  },
  {
   "cell_type": "code",
   "execution_count": 1001,
   "metadata": {},
   "outputs": [],
   "source": [
    "from sklearn.preprocessing import LabelEncoder\n",
    "encoder = LabelEncoder()\n",
    "sources = encoder.fit_transform(data['source'].values)"
   ]
  },
  {
   "cell_type": "markdown",
   "metadata": {},
   "source": [
    "#### Adding this column to the Feature Matrix"
   ]
  },
  {
   "cell_type": "code",
   "execution_count": 1003,
   "metadata": {},
   "outputs": [],
   "source": [
    "X = np.concatenate([sources.reshape(-1, 1), X.toarray()], axis = 1)"
   ]
  },
  {
   "cell_type": "markdown",
   "metadata": {},
   "source": [
    "## Train and Test set split"
   ]
  },
  {
   "cell_type": "code",
   "execution_count": 1005,
   "metadata": {},
   "outputs": [],
   "source": [
    "from sklearn.model_selection import train_test_split\n",
    "X_train, X_test, Y_train, Y_test = train_test_split(X, Y, test_size = 0.25, random_state = 0)"
   ]
  },
  {
   "cell_type": "code",
   "execution_count": 1006,
   "metadata": {},
   "outputs": [],
   "source": [
    "Y_test_eval = np.copy(Y_test)"
   ]
  },
  {
   "cell_type": "markdown",
   "metadata": {},
   "source": [
    "## Artificial Neural Network Model"
   ]
  },
  {
   "cell_type": "markdown",
   "metadata": {},
   "source": [
    "#### Import Library"
   ]
  },
  {
   "cell_type": "code",
   "execution_count": 1007,
   "metadata": {},
   "outputs": [],
   "source": [
    "import tensorflow as tf"
   ]
  },
  {
   "cell_type": "markdown",
   "metadata": {},
   "source": [
    "#### Initialize the Sequentaial Neural Network"
   ]
  },
  {
   "cell_type": "code",
   "execution_count": 1008,
   "metadata": {},
   "outputs": [],
   "source": [
    "ann = tf.keras.Sequential()"
   ]
  },
  {
   "cell_type": "markdown",
   "metadata": {},
   "source": [
    "#### Dense Layers"
   ]
  },
  {
   "cell_type": "code",
   "execution_count": 1009,
   "metadata": {},
   "outputs": [],
   "source": [
    "from tensorflow.keras.regularizers import l1"
   ]
  },
  {
   "cell_type": "code",
   "execution_count": 1010,
   "metadata": {},
   "outputs": [],
   "source": [
    "ann.add(tf.keras.layers.Dense(units = 100, activation = 'relu'))\n",
    "ann.add(tf.keras.layers.Dense(units = 128, activation = 'relu' , kernel_regularizer = l1(0.01)))\n",
    "ann.add(tf.keras.layers.Dense(units = 128, activation = 'relu', kernel_regularizer = l1(0.0035)))"
   ]
  },
  {
   "cell_type": "markdown",
   "metadata": {},
   "source": [
    "#### Output Layer"
   ]
  },
  {
   "cell_type": "code",
   "execution_count": 1011,
   "metadata": {},
   "outputs": [],
   "source": [
    "ann.add(tf.keras.layers.Dense(units = 5, activation = 'softmax'))"
   ]
  },
  {
   "cell_type": "markdown",
   "metadata": {},
   "source": [
    "### Compile the Model"
   ]
  },
  {
   "cell_type": "code",
   "execution_count": 1012,
   "metadata": {},
   "outputs": [],
   "source": [
    "ann.compile(optimizer = 'adam', loss = 'categorical_crossentropy', metrics = ['accuracy'])"
   ]
  },
  {
   "cell_type": "markdown",
   "metadata": {},
   "source": [
    "#### One-Hot-Encoding the Target Label"
   ]
  },
  {
   "cell_type": "code",
   "execution_count": 1013,
   "metadata": {},
   "outputs": [],
   "source": [
    "from sklearn.compose import ColumnTransformer\n",
    "from sklearn.preprocessing import OneHotEncoder\n",
    "transformer = ColumnTransformer(transformers = [('encoder', OneHotEncoder(), [0])], remainder = 'passthrough')\n",
    "Y_train = transformer.fit_transform(Y_train.reshape(-1, 1))\n",
    "Y_test = transformer.transform(Y_test.reshape(-1, 1))"
   ]
  },
  {
   "cell_type": "code",
   "execution_count": 1014,
   "metadata": {},
   "outputs": [],
   "source": [
    "Y_train = Y_train.toarray()\n",
    "Y_test = Y_test.toarray()"
   ]
  },
  {
   "cell_type": "markdown",
   "metadata": {},
   "source": [
    "### Train the Model"
   ]
  },
  {
   "cell_type": "code",
   "execution_count": 1015,
   "metadata": {},
   "outputs": [
    {
     "name": "stdout",
     "output_type": "stream",
     "text": [
      "Epoch 1/8\n",
      "639/639 [==============================] - 9s 13ms/step - loss: 2.5519 - accuracy: 0.5643 - val_loss: 1.1621 - val_accuracy: 0.6299\n",
      "Epoch 2/8\n",
      "639/639 [==============================] - 8s 12ms/step - loss: 1.0833 - accuracy: 0.6535 - val_loss: 1.0926 - val_accuracy: 0.6552\n",
      "Epoch 3/8\n",
      "639/639 [==============================] - 8s 12ms/step - loss: 0.9955 - accuracy: 0.6862 - val_loss: 1.0890 - val_accuracy: 0.6596\n",
      "Epoch 4/8\n",
      "639/639 [==============================] - 8s 12ms/step - loss: 0.9397 - accuracy: 0.7066 - val_loss: 1.1131 - val_accuracy: 0.6492\n",
      "Epoch 5/8\n",
      "639/639 [==============================] - 8s 12ms/step - loss: 0.8957 - accuracy: 0.7245 - val_loss: 1.1208 - val_accuracy: 0.6524\n",
      "Epoch 6/8\n",
      "639/639 [==============================] - 8s 12ms/step - loss: 0.8583 - accuracy: 0.7367 - val_loss: 1.1455 - val_accuracy: 0.6514\n",
      "Epoch 7/8\n",
      "639/639 [==============================] - 8s 12ms/step - loss: 0.8268 - accuracy: 0.7503 - val_loss: 1.1730 - val_accuracy: 0.6452\n",
      "Epoch 8/8\n",
      "639/639 [==============================] - 8s 12ms/step - loss: 0.8000 - accuracy: 0.7633 - val_loss: 1.2265 - val_accuracy: 0.6402\n"
     ]
    },
    {
     "data": {
      "text/plain": [
       "<keras.src.callbacks.History at 0x18659aada20>"
      ]
     },
     "execution_count": 1015,
     "metadata": {},
     "output_type": "execute_result"
    }
   ],
   "source": [
    "ann.fit(x = X_train, y = Y_train, validation_data = (X_test, Y_test), batch_size = 32, epochs = 8)"
   ]
  },
  {
   "cell_type": "markdown",
   "metadata": {},
   "source": [
    "## Performance on Test set"
   ]
  },
  {
   "cell_type": "code",
   "execution_count": 1016,
   "metadata": {},
   "outputs": [
    {
     "name": "stdout",
     "output_type": "stream",
     "text": [
      "213/213 [==============================] - 1s 3ms/step\n"
     ]
    }
   ],
   "source": [
    "Y_pred = []\n",
    "pred_probas = ann.predict(X_test)\n",
    "for p in pred_probas:\n",
    "    Y_pred.append(np.argmax(p))"
   ]
  },
  {
   "cell_type": "code",
   "execution_count": 1017,
   "metadata": {},
   "outputs": [],
   "source": [
    "Y_pred = np.array(Y_pred).astype('int32') + 1"
   ]
  },
  {
   "cell_type": "code",
   "execution_count": 1018,
   "metadata": {},
   "outputs": [
    {
     "name": "stdout",
     "output_type": "stream",
     "text": [
      "[[1768   12   87   17  336]\n",
      " [ 278   10   75   22   75]\n",
      " [ 215    9  140   71  147]\n",
      " [ 154    7  101  102  379]\n",
      " [ 309    0   45  110 2338]]\n",
      "Accuracy :  0.640\n",
      "Recall :  0.406\n",
      "Precision :  0.451\n"
     ]
    }
   ],
   "source": [
    "from sklearn.metrics import accuracy_score, confusion_matrix, recall_score, precision_score\n",
    "print(confusion_matrix(Y_test_eval, Y_pred))\n",
    "print(f\"Accuracy : {accuracy_score(Y_test_eval, Y_pred) : .3f}\")\n",
    "print(f\"Recall : {recall_score(Y_test_eval, Y_pred, average = 'macro') : .3f}\")\n",
    "print(f\"Precision : {precision_score(Y_test_eval, Y_pred, average = 'macro') : .3f}\")\n",
    "      "
   ]
  },
  {
   "cell_type": "markdown",
   "metadata": {},
   "source": [
    "## Single Review Prediction"
   ]
  },
  {
   "cell_type": "code",
   "execution_count": 1052,
   "metadata": {},
   "outputs": [],
   "source": [
    "text = \"I loved this app !\"\n",
    "text = re.sub(\"[^a-zA-Z]\", \" \", text).split()\n",
    "text = [stemmer.stem(word) for word in text if word not in filtered_stopwords]\n",
    "text = ' '.join(text)\n",
    "text = [text]\n",
    "review = vectorizer.transform(text)"
   ]
  },
  {
   "cell_type": "code",
   "execution_count": 1053,
   "metadata": {},
   "outputs": [],
   "source": [
    "review = np.concatenate([encoder.transform(np.array([\"Google Play\"])).reshape(-1, 1), review.toarray()], axis = 1)"
   ]
  },
  {
   "cell_type": "code",
   "execution_count": 1055,
   "metadata": {},
   "outputs": [
    {
     "name": "stdout",
     "output_type": "stream",
     "text": [
      "1/1 [==============================] - 0s 34ms/step\n"
     ]
    }
   ],
   "source": [
    "probabs = ann.predict(review)\n",
    "max1_ = float('-inf')\n",
    "max2_ = float('-inf')\n",
    "maxIndex1 = -1\n",
    "maxIndex2 = -1\n",
    "for p in enumerate(probabs[0]):\n",
    "    if(p[1] > max1_):\n",
    "        max2_ = max1_\n",
    "        max1_ = p[1]\n",
    "        maxIndex2 = maxIndex1\n",
    "        maxIndex1 = p[0]\n",
    "    elif p[1] > max2_:\n",
    "        max2_ = p[1]\n",
    "        maxIndex2 = p[0]"
   ]
  },
  {
   "cell_type": "code",
   "execution_count": 1056,
   "metadata": {},
   "outputs": [],
   "source": [
    "rating = (maxIndex1+1 + maxIndex2 + 1) / 2"
   ]
  },
  {
   "cell_type": "code",
   "execution_count": 1057,
   "metadata": {},
   "outputs": [
    {
     "name": "stdout",
     "output_type": "stream",
     "text": [
      "Rating is predicted as : 4.5\n"
     ]
    }
   ],
   "source": [
    "print(f\"Rating is predicted as : {np.round(rating, decimals = 1)}\")"
   ]
  },
  {
   "cell_type": "code",
   "execution_count": null,
   "metadata": {},
   "outputs": [],
   "source": []
  }
 ],
 "metadata": {
  "kernelspec": {
   "display_name": "base",
   "language": "python",
   "name": "python3"
  },
  "language_info": {
   "codemirror_mode": {
    "name": "ipython",
    "version": 3
   },
   "file_extension": ".py",
   "mimetype": "text/x-python",
   "name": "python",
   "nbconvert_exporter": "python",
   "pygments_lexer": "ipython3",
   "version": "3.10.9"
  },
  "orig_nbformat": 4
 },
 "nbformat": 4,
 "nbformat_minor": 2
}
